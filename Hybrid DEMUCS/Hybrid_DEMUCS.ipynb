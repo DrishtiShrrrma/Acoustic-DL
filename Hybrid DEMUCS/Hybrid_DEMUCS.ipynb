{
  "nbformat": 4,
  "nbformat_minor": 0,
  "metadata": {
    "colab": {
      "provenance": []
    },
    "kernelspec": {
      "name": "python3",
      "display_name": "Python 3"
    },
    "language_info": {
      "name": "python"
    }
  },
  "cells": [
    {
      "cell_type": "markdown",
      "source": [
        "**Source:** https://colab.research.google.com/drive/1dC9nVxk3V_VPjUADsnFu8EiT-xnU1tGH?usp=sharing#scrollTo=znCvBifRrO-b"
      ],
      "metadata": {
        "id": "ZiuuBh6DDwXB"
      }
    },
    {
      "cell_type": "code",
      "source": [
        "!git clone https://github.com/facebookresearch/demucs.git"
      ],
      "metadata": {
        "colab": {
          "base_uri": "https://localhost:8080/"
        },
        "id": "rSWbgBDED0bS",
        "outputId": "6e63ccfc-1ec3-44f5-d6f9-0a4c904b0721"
      },
      "execution_count": 1,
      "outputs": [
        {
          "output_type": "stream",
          "name": "stdout",
        }
      ]
    },
    {
      "cell_type": "code",
      "source": [
        "%cd /content/demucs"
      ],
      "metadata": {
        "colab": {
          "base_uri": "https://localhost:8080/"
        },
        "id": "2tTWjr1UMeW_",
        "outputId": "1fc0d7f9-8ddd-4d5d-cb21-7e9c3a1cf5f5"
      },
      "execution_count": 2,
      "outputs": [
        {
          "output_type": "stream",
          "name": "stdout",
          "text": [
            "/content/demucs\n"
          ]
        }
      ]
    },
    {
      "cell_type": "code",
      "source": [
        "!pip install -r requirements.txt"
      ],
      "metadata": {
        "colab": {
          "base_uri": "https://localhost:8080/"
        },
        "id": "QYUYlpkQMxtS",
        "outputId": "bd8ad412-f9de-4961-8a8f-172578980b8a"
      },
      "execution_count": 3,
      "outputs": [
        {
          "output_type": "stream",
          "name": "stdout",
          "text": [
            "Looking in indexes: https://pypi.org/simple, https://us-python.pkg.dev/colab-wheels/public/simple/\n",
            "Ignoring soundfile: markers 'sys_platform == \"win32\"' don't match your environment\n",
            "Requirement already satisfied: dora-search in /usr/local/lib/python3.9/dist-packages (from -r requirements.txt (line 2)) (0.1.11)\n",
            "Requirement already satisfied: diffq>=0.2.1 in /usr/local/lib/python3.9/dist-packages (from -r requirements.txt (line 3)) (0.2.3)\n",
            "Requirement already satisfied: einops in /usr/local/lib/python3.9/dist-packages (from -r requirements.txt (line 4)) (0.6.0)\n",
            "Requirement already satisfied: flake8 in /usr/local/lib/python3.9/dist-packages (from -r requirements.txt (line 5)) (6.0.0)\n",
            "Requirement already satisfied: hydra-colorlog>=1.1 in /usr/local/lib/python3.9/dist-packages (from -r requirements.txt (line 6)) (1.2.0)\n",
            "Requirement already satisfied: hydra-core>=1.1 in /usr/local/lib/python3.9/dist-packages (from -r requirements.txt (line 7)) (1.3.2)\n",
            "Requirement already satisfied: julius>=0.2.3 in /usr/local/lib/python3.9/dist-packages (from -r requirements.txt (line 8)) (0.2.7)\n",
            "Requirement already satisfied: lameenc>=1.2 in /usr/local/lib/python3.9/dist-packages (from -r requirements.txt (line 9)) (1.4.2)\n",
            "Requirement already satisfied: museval in /usr/local/lib/python3.9/dist-packages (from -r requirements.txt (line 10)) (0.4.0)\n",
            "Requirement already satisfied: mypy in /usr/local/lib/python3.9/dist-packages (from -r requirements.txt (line 11)) (1.2.0)\n",
            "Requirement already satisfied: openunmix in /usr/local/lib/python3.9/dist-packages (from -r requirements.txt (line 12)) (1.2.1)\n",
            "Requirement already satisfied: pyyaml in /usr/local/lib/python3.9/dist-packages (from -r requirements.txt (line 13)) (6.0)\n",
            "Requirement already satisfied: submitit in /usr/local/lib/python3.9/dist-packages (from -r requirements.txt (line 14)) (1.4.5)\n",
            "Requirement already satisfied: torch>=1.8.1 in /usr/local/lib/python3.9/dist-packages (from -r requirements.txt (line 15)) (2.0.0+cu118)\n",
            "Requirement already satisfied: torchaudio>=0.8 in /usr/local/lib/python3.9/dist-packages (from -r requirements.txt (line 16)) (2.0.1+cu118)\n",
            "Requirement already satisfied: tqdm in /usr/local/lib/python3.9/dist-packages (from -r requirements.txt (line 17)) (4.65.0)\n",
            "Requirement already satisfied: treetable in /usr/local/lib/python3.9/dist-packages (from -r requirements.txt (line 18)) (0.2.5)\n",
            "Requirement already satisfied: retrying in /usr/local/lib/python3.9/dist-packages (from dora-search->-r requirements.txt (line 2)) (1.3.4)\n",
            "Requirement already satisfied: omegaconf in /usr/local/lib/python3.9/dist-packages (from dora-search->-r requirements.txt (line 2)) (2.3.0)\n",
            "Requirement already satisfied: Cython in /usr/local/lib/python3.9/dist-packages (from diffq>=0.2.1->-r requirements.txt (line 3)) (0.29.34)\n",
            "Requirement already satisfied: numpy in /usr/local/lib/python3.9/dist-packages (from diffq>=0.2.1->-r requirements.txt (line 3)) (1.22.4)\n",
            "Requirement already satisfied: pycodestyle<2.11.0,>=2.10.0 in /usr/local/lib/python3.9/dist-packages (from flake8->-r requirements.txt (line 5)) (2.10.0)\n",
            "Requirement already satisfied: pyflakes<3.1.0,>=3.0.0 in /usr/local/lib/python3.9/dist-packages (from flake8->-r requirements.txt (line 5)) (3.0.1)\n",
            "Requirement already satisfied: mccabe<0.8.0,>=0.7.0 in /usr/local/lib/python3.9/dist-packages (from flake8->-r requirements.txt (line 5)) (0.7.0)\n",
            "Requirement already satisfied: colorlog in /usr/local/lib/python3.9/dist-packages (from hydra-colorlog>=1.1->-r requirements.txt (line 6)) (6.7.0)\n",
            "Requirement already satisfied: antlr4-python3-runtime==4.9.* in /usr/local/lib/python3.9/dist-packages (from hydra-core>=1.1->-r requirements.txt (line 7)) (4.9.3)\n",
            "Requirement already satisfied: packaging in /usr/local/lib/python3.9/dist-packages (from hydra-core>=1.1->-r requirements.txt (line 7)) (23.0)\n",
            "Requirement already satisfied: jsonschema in /usr/local/lib/python3.9/dist-packages (from museval->-r requirements.txt (line 10)) (4.3.3)\n",
            "Requirement already satisfied: scipy in /usr/local/lib/python3.9/dist-packages (from museval->-r requirements.txt (line 10)) (1.10.1)\n",
            "Requirement already satisfied: pandas>=1.0.1 in /usr/local/lib/python3.9/dist-packages (from museval->-r requirements.txt (line 10)) (1.5.3)\n",
            "Requirement already satisfied: simplejson in /usr/local/lib/python3.9/dist-packages (from museval->-r requirements.txt (line 10)) (3.19.1)\n",
            "Requirement already satisfied: soundfile in /usr/local/lib/python3.9/dist-packages (from museval->-r requirements.txt (line 10)) (0.12.1)\n",
            "Requirement already satisfied: musdb>=0.4.0 in /usr/local/lib/python3.9/dist-packages (from museval->-r requirements.txt (line 10)) (0.4.0)\n",
            "Requirement already satisfied: tomli>=1.1.0 in /usr/local/lib/python3.9/dist-packages (from mypy->-r requirements.txt (line 11)) (2.0.1)\n",
            "Requirement already satisfied: typing-extensions>=3.10 in /usr/local/lib/python3.9/dist-packages (from mypy->-r requirements.txt (line 11)) (4.5.0)\n",
            "Requirement already satisfied: mypy-extensions>=1.0.0 in /usr/local/lib/python3.9/dist-packages (from mypy->-r requirements.txt (line 11)) (1.0.0)\n",
            "Requirement already satisfied: cloudpickle>=1.2.1 in /usr/local/lib/python3.9/dist-packages (from submitit->-r requirements.txt (line 14)) (2.2.1)\n",
            "Requirement already satisfied: sympy in /usr/local/lib/python3.9/dist-packages (from torch>=1.8.1->-r requirements.txt (line 15)) (1.11.1)\n",
            "Requirement already satisfied: networkx in /usr/local/lib/python3.9/dist-packages (from torch>=1.8.1->-r requirements.txt (line 15)) (3.1)\n",
            "Requirement already satisfied: triton==2.0.0 in /usr/local/lib/python3.9/dist-packages (from torch>=1.8.1->-r requirements.txt (line 15)) (2.0.0)\n",
            "Requirement already satisfied: filelock in /usr/local/lib/python3.9/dist-packages (from torch>=1.8.1->-r requirements.txt (line 15)) (3.11.0)\n",
            "Requirement already satisfied: jinja2 in /usr/local/lib/python3.9/dist-packages (from torch>=1.8.1->-r requirements.txt (line 15)) (3.1.2)\n",
            "Requirement already satisfied: lit in /usr/local/lib/python3.9/dist-packages (from triton==2.0.0->torch>=1.8.1->-r requirements.txt (line 15)) (16.0.0)\n",
            "Requirement already satisfied: cmake in /usr/local/lib/python3.9/dist-packages (from triton==2.0.0->torch>=1.8.1->-r requirements.txt (line 15)) (3.25.2)\n",
            "Requirement already satisfied: pyaml in /usr/local/lib/python3.9/dist-packages (from musdb>=0.4.0->museval->-r requirements.txt (line 10)) (21.10.1)\n",
            "Requirement already satisfied: stempeg>=0.2.3 in /usr/local/lib/python3.9/dist-packages (from musdb>=0.4.0->museval->-r requirements.txt (line 10)) (0.2.3)\n",
            "Requirement already satisfied: python-dateutil>=2.8.1 in /usr/local/lib/python3.9/dist-packages (from pandas>=1.0.1->museval->-r requirements.txt (line 10)) (2.8.2)\n",
            "Requirement already satisfied: pytz>=2020.1 in /usr/local/lib/python3.9/dist-packages (from pandas>=1.0.1->museval->-r requirements.txt (line 10)) (2022.7.1)\n",
            "Requirement already satisfied: MarkupSafe>=2.0 in /usr/local/lib/python3.9/dist-packages (from jinja2->torch>=1.8.1->-r requirements.txt (line 15)) (2.1.2)\n",
            "Requirement already satisfied: attrs>=17.4.0 in /usr/local/lib/python3.9/dist-packages (from jsonschema->museval->-r requirements.txt (line 10)) (22.2.0)\n",
            "Requirement already satisfied: pyrsistent!=0.17.0,!=0.17.1,!=0.17.2,>=0.14.0 in /usr/local/lib/python3.9/dist-packages (from jsonschema->museval->-r requirements.txt (line 10)) (0.19.3)\n",
            "Requirement already satisfied: six>=1.7.0 in /usr/local/lib/python3.9/dist-packages (from retrying->dora-search->-r requirements.txt (line 2)) (1.16.0)\n",
            "Requirement already satisfied: cffi>=1.0 in /usr/local/lib/python3.9/dist-packages (from soundfile->museval->-r requirements.txt (line 10)) (1.15.1)\n",
            "Requirement already satisfied: mpmath>=0.19 in /usr/local/lib/python3.9/dist-packages (from sympy->torch>=1.8.1->-r requirements.txt (line 15)) (1.3.0)\n",
            "Requirement already satisfied: pycparser in /usr/local/lib/python3.9/dist-packages (from cffi>=1.0->soundfile->museval->-r requirements.txt (line 10)) (2.21)\n",
            "Requirement already satisfied: ffmpeg-python>=0.2.0 in /usr/local/lib/python3.9/dist-packages (from stempeg>=0.2.3->musdb>=0.4.0->museval->-r requirements.txt (line 10)) (0.2.0)\n",
            "Requirement already satisfied: future in /usr/local/lib/python3.9/dist-packages (from ffmpeg-python>=0.2.0->stempeg>=0.2.3->musdb>=0.4.0->museval->-r requirements.txt (line 10)) (0.18.3)\n"
          ]
        }
      ]
    },
    {
      "cell_type": "markdown",
      "source": [
        "There are two HTDemucs models available: a fine-tuned version (htdemucs_ft) and a non fine-tuned version (htdemucs). The fine-tuned version is trained on a specific dataset and may perform better on certain types of music, but it may also require more computational resources and take longer to train."
      ],
      "metadata": {
        "id": "E6xvLk0meJSp"
      }
    },
    {
      "cell_type": "code",
      "source": [
        "model = \"htdemucs\"\n",
        "#model=\"htdemucs_ft\""
      ],
      "metadata": {
        "id": "Gfkk1t6Dd7Pq"
      },
      "execution_count": 4,
      "outputs": []
    },
    {
      "cell_type": "markdown",
      "source": [
        "Now we will define an \"extensions\" variable name which is a list of file extensions that we want to look for in the in_path directory."
      ],
      "metadata": {
        "id": "d4AKU3xPfhVP"
      }
    },
    {
      "cell_type": "code",
      "source": [
        "extensions = [\"mp3\", \"wav\", \"ogg\", \"flac\"]"
      ],
      "metadata": {
        "id": "v-Bw61ALfgbJ"
      },
      "execution_count": 5,
      "outputs": []
    },
    {
      "cell_type": "markdown",
      "source": [
        "Acoording to the variable we created, the supported file types are MP3, WAV, OGG, and FLAC."
      ],
      "metadata": {
        "id": "3cVEKydNf0by"
      }
    },
    {
      "cell_type": "markdown",
      "source": [
        "The two_stems variable determines how many stems the script will separate.\n",
        "- If it is set to None, then all available stems will be separated.\n",
        "- If it is set to a string, such as \"vocals\", then the script will only separate the vocals stem from the other stems.\n",
        "- If we set two_stems = [\"vocals\", \"drums\"], Demucs would try to separate the vocals and drums from the rest of the audio. The resulting output files would include the vocals, drums, and any remaining accompaniment or other instruments."
      ],
      "metadata": {
        "id": "XWTWy_HfgTIj"
      }
    },
    {
      "cell_type": "code",
      "source": [
        "two_stems = None                 #Separating only one stem from the rest\n",
        "#two_stems = \"vocals\"            #Separating only \"vocals\" stem from the other stems\n",
        "#two_stems = [\"vocals\", \"drums\"] #Separating the vocals and drums from the rest of the audio"
      ],
      "metadata": {
        "id": "qobAB3LQu1Xj"
      },
      "execution_count": 6,
      "outputs": []
    },
    {
      "cell_type": "markdown",
      "source": [
        "- If you set two_stems = [\"vocals\", \"drums\"], Demucs would try to separate the vocals and drums from the rest of the audio. The resulting output files would include the vocals, drums, and any remaining accompaniment or other instruments."
      ],
      "metadata": {
        "id": "LkHoSnowu5lB"
      }
    },
    {
      "cell_type": "code",
      "source": [
        "# Options for the output audio.\n",
        "mp3 = True       #Specifies whether to output the separated audio files as MP3 files.\n",
        "mp3_rate = 320   #The default value is 320, which is a relatively high bitrate and should result in good quality audio.\n",
        "float32 = False  #??output as float 32 wavs, unsused if 'mp3' is True. If set to True, the output files will be in this format; otherwise, they will be in 16-bit integer WAV format.\n",
        "int24 = False    #output as int24 wavs, unused if 'mp3' is True ---- specifies whether to output the separated audio files as 24-bit integer WAV files. If set to True, the output files will be in this format; otherwise, they will be in 16-bit integer WAV format.\n",
        "# You cannot set both `float32 = True` and `int24 = True` !!\n"
      ],
      "metadata": {
        "id": "4ZfIcr3QM1NI"
      },
      "execution_count": 7,
      "outputs": []
    },
    {
      "cell_type": "code",
      "source": [
        "#Setting the path to the directory containing the audio files that will be processed.\n",
        "in_path = '/content/drive/MyDrive/Sample Audios'\n",
        "\n",
        "#Setting the path to the directory where the processed audio files will be saved.\n",
        "out_path = '/gdrive/MyDrive/demucs_separated/'"
      ],
      "metadata": {
        "id": "1GReH4hu_WxI"
      },
      "execution_count": 8,
      "outputs": []
    },
    {
      "cell_type": "markdown",
      "source": [],
      "metadata": {
        "id": "QfWyNYBR_Vhr"
      }
    },
    {
      "cell_type": "code",
      "source": [
        "import io\n",
        "from pathlib import Path\n",
        "import select                                      #provides a way to monitor multiple input/output (I/O) sources for activity.\n",
        "from shutil import rmtree                          #rmtree is a function from the shutil module that recursively deletes a directory and its contents.\n",
        "import subprocess as sp                            #provides tools for spawning new processes, connecting them to pipes, and obtaining their return codes and output.\n",
        "import sys                                         #provides access to some variables used or maintained by the interpreter and to functions that interact strongly with the interpreter.\n",
        "from typing import Dict, Tuple, Optional, IO       #typing is a module that provides standard definitions for Python type hints."
      ],
      "metadata": {
        "id": "LbTs8eWVOz5N"
      },
      "execution_count": 9,
      "outputs": []
    },
    {
      "cell_type": "code",
      "source": [
        "\n",
        "#Defining a function that returns the out list, which contains all the Path objects representing files in in_path with extensions matching extensions. \n",
        "def find_files(in_path):\n",
        "    out = []\n",
        "    for file in Path(in_path).iterdir():                                      #iterates over all the files in the directory specified by in_path, using the iterdir() method of the Path class to get an iterator of Path objects representing the files in the directory.\n",
        "        if file.suffix.lower().lstrip(\".\") in extensions:                     #checking whether the file extension matches one of the extensions listed in the global variable extensions.\n",
        "            out.append(file)                                                  #If the file has a matching extension, the function appends the Path object representing the file to the out list.\n",
        "    return out\n",
        "\n",
        "\n",
        "\n"
      ],
      "metadata": {
        "id": "tcU8bI5KO4Xm"
      },
      "execution_count": 10,
      "outputs": []
    },
    {
      "cell_type": "code",
      "source": [
        "#Copying the output of a subprocess to the standard output and standard error streams in real-time, while also buffering the output in memory for later use if necessary.\n",
        "def copy_process_streams(process: sp.Popen):\n",
        "    def raw(stream: Optional[IO[bytes]]) -> IO[bytes]:\n",
        "        assert stream is not None\n",
        "        if isinstance(stream, io.BufferedIOBase):\n",
        "            stream = stream.raw\n",
        "        return stream\n",
        "\n",
        "    p_stdout, p_stderr = raw(process.stdout), raw(process.stderr)\n",
        "    stream_by_fd: Dict[int, Tuple[IO[bytes], io.StringIO, IO[str]]] = {\n",
        "        p_stdout.fileno(): (p_stdout, sys.stdout),\n",
        "        p_stderr.fileno(): (p_stderr, sys.stderr),\n",
        "    }\n",
        "    fds = list(stream_by_fd.keys())\n",
        "\n",
        "    while fds:\n",
        "        # `select` syscall will wait until one of the file descriptors has content.\n",
        "        ready, _, _ = select.select(fds, [], [])\n",
        "        for fd in ready:\n",
        "            p_stream, std = stream_by_fd[fd]\n",
        "            raw_buf = p_stream.read(2 ** 16)\n",
        "            if not raw_buf:\n",
        "                fds.remove(fd)\n",
        "                continue\n",
        "            buf = raw_buf.decode()\n",
        "            std.write(buf)\n",
        "            std.flush()\n",
        "\n"
      ],
      "metadata": {
        "id": "18PqA280o10P"
      },
      "execution_count": null,
      "outputs": []
    },
    {
      "cell_type": "code",
      "source": [
        "def separate(inp=None, outp=None):\n",
        "    inp = inp or in_path\n",
        "    outp = outp or out_path\n",
        "    cmd = [\"python3\", \"-m\", \"demucs.separate\", \"-o\", str(outp), \"-n\", model]\n",
        "    if mp3:\n",
        "        cmd += [\"--mp3\", f\"--mp3-bitrate={mp3_rate}\"]\n",
        "    if float32:\n",
        "        cmd += [\"--float32\"]\n",
        "    if int24:\n",
        "        cmd += [\"--int24\"]\n",
        "    if two_stems is not None:\n",
        "        cmd += [f\"--two-stems={two_stems}\"]\n",
        "    files = [str(f) for f in find_files(inp)]\n",
        "    if not files:\n",
        "        print(f\"No valid audio files in {in_path}\")\n",
        "        return\n",
        "    print(\"Going to separate the files:\")\n",
        "    print('\\n'.join(files))\n",
        "    print(\"With command: \", \" \".join(cmd))\n",
        "    p = sp.Popen(cmd + files, stdout=sp.PIPE, stderr=sp.PIPE)\n",
        "    copy_process_streams(p)\n",
        "    p.wait()\n",
        "    if p.returncode != 0:\n",
        "        print(\"Command failed, something went wrong.\")\n",
        "\n",
        "\n"
      ],
      "metadata": {
        "id": "mWSRacB-o5ua"
      },
      "execution_count": null,
      "outputs": []
    },
    {
      "cell_type": "code",
      "source": [
        "#Defining a function to allow a user to upload audio files and then run source separation on them using the separate() function.\n",
        "def from_upload():\n",
        "    out_path = Path('separated')\n",
        "    in_path = Path('tmp_in')\n",
        "    \n",
        "    if in_path.exists():\n",
        "        rmtree(in_path)\n",
        "    in_path.mkdir()\n",
        "    \n",
        "    if out_path.exists():\n",
        "        rmtree(out_path)\n",
        "    out_path.mkdir()\n",
        "    \n",
        "    uploaded = files.upload()\n",
        "    for name, content in uploaded.items():\n",
        "        (in_path / name).write_bytes(content)\n",
        "    separate(in_path, out_path)"
      ],
      "metadata": {
        "id": "9IiWAWC_o7tA"
      },
      "execution_count": null,
      "outputs": []
    },
    {
      "cell_type": "code",
      "source": [
        "# This can be quite slow, in particular the loading, and saving from GDrive. Please be patient!\n",
        "# This is from google drive! Also, this will separate all the files inside the MyDrive/demucs folder,\n",
        "# so when you are happy with the results, remove the songs from there.\n",
        "separate()"
      ],
      "metadata": {
        "colab": {
          "base_uri": "https://localhost:8080/"
        },
        "id": "iKzKYVuhO_CQ",
        "outputId": "7993ab18-668d-4520-9602-b195162fc51d"
      },
      "execution_count": 11,
      "outputs": [
        {
          "output_type": "stream",
          "name": "stdout",
          "text": [
            "Going to separate the files:\n",
            "/content/drive/MyDrive/Sample Audios/she-said-lo-fi-singing-with-guitar_G _major.mp3\n",
            "With command:  python3 -m demucs.separate -o /gdrive/MyDrive/demucs_separated/ -n htdemucs --mp3 --mp3-bitrate=320\n",
            "Selected model is a bag of 1 models. You will see that many progress bars per track.\n",
            "Separated tracks will be stored in /gdrive/MyDrive/demucs_separated/htdemucs\n",
            "Separating track /content/drive/MyDrive/Sample Audios/she-said-lo-fi-singing-with-guitar_G _major.mp3\n"
          ]
        },
        {
          "output_type": "stream",
          "name": "stderr",
          "text": [
            "100%|██████████████████████████████████████████████| 35.099999999999994/35.099999999999994 [00:44<00:00,  1.28s/seconds]\n"
          ]
        }
      ]
    },
    {
      "cell_type": "code",
      "source": [
        "from google.colab import files"
      ],
      "metadata": {
        "id": "Wg4F30fhcQ3a"
      },
      "execution_count": 12,
      "outputs": []
    },
    {
      "cell_type": "code",
      "source": [
        "# This is manual upload and download :)\n",
        "from_upload()\n",
        "!zip -r separated.zip separated\n",
        "files.download('./separated.zip')"
      ],
      "metadata": {
        "colab": {
          "base_uri": "https://localhost:8080/",
          "height": 316
        },
        "id": "cm-Jw6g6ZwC2",
        "outputId": "2d89a28c-506d-46ac-d219-fa0d0973940d"
      },
      "execution_count": 13,
      "outputs": [
        {
          "output_type": "display_data",
          "data": {
            "text/plain": [
              "<IPython.core.display.HTML object>"
            ],
            "text/html": [
              "\n",
              "     <input type=\"file\" id=\"files-3b94ca12-5f16-490a-a43c-a9c9386bce79\" name=\"files[]\" multiple disabled\n",
              "        style=\"border:none\" />\n",
              "     <output id=\"result-3b94ca12-5f16-490a-a43c-a9c9386bce79\">\n",
              "      Upload widget is only available when the cell has been executed in the\n",
              "      current browser session. Please rerun this cell to enable.\n",
              "      </output>\n",
              "      <script>// Copyright 2017 Google LLC\n",
              "//\n",
              "// Licensed under the Apache License, Version 2.0 (the \"License\");\n",
              "// you may not use this file except in compliance with the License.\n",
              "// You may obtain a copy of the License at\n",
              "//\n",
              "//      http://www.apache.org/licenses/LICENSE-2.0\n",
              "//\n",
              "// Unless required by applicable law or agreed to in writing, software\n",
              "// distributed under the License is distributed on an \"AS IS\" BASIS,\n",
              "// WITHOUT WARRANTIES OR CONDITIONS OF ANY KIND, either express or implied.\n",
              "// See the License for the specific language governing permissions and\n",
              "// limitations under the License.\n",
              "\n",
              "/**\n",
              " * @fileoverview Helpers for google.colab Python module.\n",
              " */\n",
              "(function(scope) {\n",
              "function span(text, styleAttributes = {}) {\n",
              "  const element = document.createElement('span');\n",
              "  element.textContent = text;\n",
              "  for (const key of Object.keys(styleAttributes)) {\n",
              "    element.style[key] = styleAttributes[key];\n",
              "  }\n",
              "  return element;\n",
              "}\n",
              "\n",
              "// Max number of bytes which will be uploaded at a time.\n",
              "const MAX_PAYLOAD_SIZE = 100 * 1024;\n",
              "\n",
              "function _uploadFiles(inputId, outputId) {\n",
              "  const steps = uploadFilesStep(inputId, outputId);\n",
              "  const outputElement = document.getElementById(outputId);\n",
              "  // Cache steps on the outputElement to make it available for the next call\n",
              "  // to uploadFilesContinue from Python.\n",
              "  outputElement.steps = steps;\n",
              "\n",
              "  return _uploadFilesContinue(outputId);\n",
              "}\n",
              "\n",
              "// This is roughly an async generator (not supported in the browser yet),\n",
              "// where there are multiple asynchronous steps and the Python side is going\n",
              "// to poll for completion of each step.\n",
              "// This uses a Promise to block the python side on completion of each step,\n",
              "// then passes the result of the previous step as the input to the next step.\n",
              "function _uploadFilesContinue(outputId) {\n",
              "  const outputElement = document.getElementById(outputId);\n",
              "  const steps = outputElement.steps;\n",
              "\n",
              "  const next = steps.next(outputElement.lastPromiseValue);\n",
              "  return Promise.resolve(next.value.promise).then((value) => {\n",
              "    // Cache the last promise value to make it available to the next\n",
              "    // step of the generator.\n",
              "    outputElement.lastPromiseValue = value;\n",
              "    return next.value.response;\n",
              "  });\n",
              "}\n",
              "\n",
              "/**\n",
              " * Generator function which is called between each async step of the upload\n",
              " * process.\n",
              " * @param {string} inputId Element ID of the input file picker element.\n",
              " * @param {string} outputId Element ID of the output display.\n",
              " * @return {!Iterable<!Object>} Iterable of next steps.\n",
              " */\n",
              "function* uploadFilesStep(inputId, outputId) {\n",
              "  const inputElement = document.getElementById(inputId);\n",
              "  inputElement.disabled = false;\n",
              "\n",
              "  const outputElement = document.getElementById(outputId);\n",
              "  outputElement.innerHTML = '';\n",
              "\n",
              "  const pickedPromise = new Promise((resolve) => {\n",
              "    inputElement.addEventListener('change', (e) => {\n",
              "      resolve(e.target.files);\n",
              "    });\n",
              "  });\n",
              "\n",
              "  const cancel = document.createElement('button');\n",
              "  inputElement.parentElement.appendChild(cancel);\n",
              "  cancel.textContent = 'Cancel upload';\n",
              "  const cancelPromise = new Promise((resolve) => {\n",
              "    cancel.onclick = () => {\n",
              "      resolve(null);\n",
              "    };\n",
              "  });\n",
              "\n",
              "  // Wait for the user to pick the files.\n",
              "  const files = yield {\n",
              "    promise: Promise.race([pickedPromise, cancelPromise]),\n",
              "    response: {\n",
              "      action: 'starting',\n",
              "    }\n",
              "  };\n",
              "\n",
              "  cancel.remove();\n",
              "\n",
              "  // Disable the input element since further picks are not allowed.\n",
              "  inputElement.disabled = true;\n",
              "\n",
              "  if (!files) {\n",
              "    return {\n",
              "      response: {\n",
              "        action: 'complete',\n",
              "      }\n",
              "    };\n",
              "  }\n",
              "\n",
              "  for (const file of files) {\n",
              "    const li = document.createElement('li');\n",
              "    li.append(span(file.name, {fontWeight: 'bold'}));\n",
              "    li.append(span(\n",
              "        `(${file.type || 'n/a'}) - ${file.size} bytes, ` +\n",
              "        `last modified: ${\n",
              "            file.lastModifiedDate ? file.lastModifiedDate.toLocaleDateString() :\n",
              "                                    'n/a'} - `));\n",
              "    const percent = span('0% done');\n",
              "    li.appendChild(percent);\n",
              "\n",
              "    outputElement.appendChild(li);\n",
              "\n",
              "    const fileDataPromise = new Promise((resolve) => {\n",
              "      const reader = new FileReader();\n",
              "      reader.onload = (e) => {\n",
              "        resolve(e.target.result);\n",
              "      };\n",
              "      reader.readAsArrayBuffer(file);\n",
              "    });\n",
              "    // Wait for the data to be ready.\n",
              "    let fileData = yield {\n",
              "      promise: fileDataPromise,\n",
              "      response: {\n",
              "        action: 'continue',\n",
              "      }\n",
              "    };\n",
              "\n",
              "    // Use a chunked sending to avoid message size limits. See b/62115660.\n",
              "    let position = 0;\n",
              "    do {\n",
              "      const length = Math.min(fileData.byteLength - position, MAX_PAYLOAD_SIZE);\n",
              "      const chunk = new Uint8Array(fileData, position, length);\n",
              "      position += length;\n",
              "\n",
              "      const base64 = btoa(String.fromCharCode.apply(null, chunk));\n",
              "      yield {\n",
              "        response: {\n",
              "          action: 'append',\n",
              "          file: file.name,\n",
              "          data: base64,\n",
              "        },\n",
              "      };\n",
              "\n",
              "      let percentDone = fileData.byteLength === 0 ?\n",
              "          100 :\n",
              "          Math.round((position / fileData.byteLength) * 100);\n",
              "      percent.textContent = `${percentDone}% done`;\n",
              "\n",
              "    } while (position < fileData.byteLength);\n",
              "  }\n",
              "\n",
              "  // All done.\n",
              "  yield {\n",
              "    response: {\n",
              "      action: 'complete',\n",
              "    }\n",
              "  };\n",
              "}\n",
              "\n",
              "scope.google = scope.google || {};\n",
              "scope.google.colab = scope.google.colab || {};\n",
              "scope.google.colab._files = {\n",
              "  _uploadFiles,\n",
              "  _uploadFilesContinue,\n",
              "};\n",
              "})(self);\n",
              "</script> "
            ]
          },
          "metadata": {}
        },
        {
          "output_type": "stream",
          "name": "stdout",
          "text": [
            "Saving she-said-lo-fi-singing-with-guitar_G _major.mp3 to she-said-lo-fi-singing-with-guitar_G _major.mp3\n",
            "Going to separate the files:\n",
            "tmp_in/she-said-lo-fi-singing-with-guitar_G _major.mp3\n",
            "With command:  python3 -m demucs.separate -o separated -n htdemucs --mp3 --mp3-bitrate=320\n",
            "Selected model is a bag of 1 models. You will see that many progress bars per track.\n",
            "Separated tracks will be stored in /content/demucs/separated/htdemucs\n",
            "Separating track tmp_in/she-said-lo-fi-singing-with-guitar_G _major.mp3\n"
          ]
        },
        {
          "output_type": "stream",
          "name": "stderr",
          "text": [
            "100%|██████████████████████████████████████████████| 35.099999999999994/35.099999999999994 [00:42<00:00,  1.20s/seconds]\n"
          ]
        },
        {
          "output_type": "stream",
          "name": "stdout",
          "text": [
            "updating: separated/ (stored 0%)\n",
            "updating: separated/htdemucs/ (stored 0%)\n",
            "  adding: separated/htdemucs/she-said-lo-fi-singing-with-guitar_G _major/ (stored 0%)\n",
            "  adding: separated/htdemucs/she-said-lo-fi-singing-with-guitar_G _major/bass.mp3 (deflated 5%)\n",
            "  adding: separated/htdemucs/she-said-lo-fi-singing-with-guitar_G _major/other.mp3 (deflated 2%)\n",
            "  adding: separated/htdemucs/she-said-lo-fi-singing-with-guitar_G _major/drums.mp3 (deflated 2%)\n",
            "  adding: separated/htdemucs/she-said-lo-fi-singing-with-guitar_G _major/vocals.mp3 (deflated 2%)\n"
          ]
        },
        {
          "output_type": "display_data",
          "data": {
            "text/plain": [
              "<IPython.core.display.Javascript object>"
            ],
            "application/javascript": [
              "\n",
              "    async function download(id, filename, size) {\n",
              "      if (!google.colab.kernel.accessAllowed) {\n",
              "        return;\n",
              "      }\n",
              "      const div = document.createElement('div');\n",
              "      const label = document.createElement('label');\n",
              "      label.textContent = `Downloading \"${filename}\": `;\n",
              "      div.appendChild(label);\n",
              "      const progress = document.createElement('progress');\n",
              "      progress.max = size;\n",
              "      div.appendChild(progress);\n",
              "      document.body.appendChild(div);\n",
              "\n",
              "      const buffers = [];\n",
              "      let downloaded = 0;\n",
              "\n",
              "      const channel = await google.colab.kernel.comms.open(id);\n",
              "      // Send a message to notify the kernel that we're ready.\n",
              "      channel.send({})\n",
              "\n",
              "      for await (const message of channel.messages) {\n",
              "        // Send a message to notify the kernel that we're ready.\n",
              "        channel.send({})\n",
              "        if (message.buffers) {\n",
              "          for (const buffer of message.buffers) {\n",
              "            buffers.push(buffer);\n",
              "            downloaded += buffer.byteLength;\n",
              "            progress.value = downloaded;\n",
              "          }\n",
              "        }\n",
              "      }\n",
              "      const blob = new Blob(buffers, {type: 'application/binary'});\n",
              "      const a = document.createElement('a');\n",
              "      a.href = window.URL.createObjectURL(blob);\n",
              "      a.download = filename;\n",
              "      div.appendChild(a);\n",
              "      a.click();\n",
              "      div.remove();\n",
              "    }\n",
              "  "
            ]
          },
          "metadata": {}
        },
        {
          "output_type": "display_data",
          "data": {
            "text/plain": [
              "<IPython.core.display.Javascript object>"
            ],
            "application/javascript": [
              "download(\"download_498f0823-f1aa-4f8e-8d40-4a5bcdd3f57d\", \"separated.zip\", 5226899)"
            ]
          },
          "metadata": {}
        }
      ]
    },
    {
      "cell_type": "code",
      "source": [],
      "metadata": {
        "id": "CdXV8HHybY42"
      },
      "execution_count": 13,
      "outputs": []
    }
  ]
}
